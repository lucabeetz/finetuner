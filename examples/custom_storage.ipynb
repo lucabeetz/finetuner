{
 "cells": [
  {
   "cell_type": "code",
   "execution_count": 1,
   "metadata": {},
   "outputs": [],
   "source": [
    "import os\n",
    "import json\n",
    "from typing import Optional\n",
    "from finetuner import Client\n",
    "from finetuner.storage import Storage\n",
    "from finetuner.dataset import Dataset\n",
    "from finetuner.eval import Eval\n",
    "from dotenv import load_dotenv\n",
    "\n",
    "load_dotenv()\n",
    "\n",
    "class DotStorage(Storage):\n",
    "    directory: str\n",
    "\n",
    "    def __init__(self, directory: str):\n",
    "        super().__init__()\n",
    "        self.directory = directory\n",
    "\n",
    "    def append_to_dataset(self, dataset_name: str, input_kwargs: dict, completion: str):\n",
    "        pass\n",
    "\n",
    "    def list_datasets(self):\n",
    "        for file in os.listdir(self.directory):\n",
    "            if file.endswith(\".json\"):\n",
    "                print(file)\n",
    "\n",
    "    def get_dataset(self, dataset_name: str) -> Optional[Dataset]:\n",
    "        file_path = os.path.join(self.directory, f\"{dataset_name}.json\")\n",
    "        completions = []\n",
    "        with open(file_path, \"r\") as f:\n",
    "            try:\n",
    "                content = json.load(f)\n",
    "            except json.JSONDecodeError:\n",
    "                print(f\"The dataset {dataset_name} is empty or not a valid JSON file\")\n",
    "                return None\n",
    "\n",
    "        for entry in content:\n",
    "            fields = entry[\"fields\"]\n",
    "            messages = [\n",
    "                {\"role\": \"user\", \"content\": fields[\"prompt_template\"]},\n",
    "            ]\n",
    "            completions.append(\n",
    "                {\n",
    "                    \"input_kwargs\": {\"model\": fields[\"model\"], \"messages\": messages},\n",
    "                    \"completion\": fields[\"output\"]\n",
    "                }\n",
    "            )\n",
    "        return Dataset(completions=completions)"
   ]
  },
  {
   "cell_type": "code",
   "execution_count": 2,
   "metadata": {},
   "outputs": [],
   "source": [
    "storage = DotStorage(directory=\".\")"
   ]
  },
  {
   "cell_type": "code",
   "execution_count": 3,
   "metadata": {},
   "outputs": [
    {
     "name": "stdout",
     "output_type": "stream",
     "text": [
      "search_classifier.json\n"
     ]
    }
   ],
   "source": [
    "storage.list_datasets()"
   ]
  },
  {
   "cell_type": "code",
   "execution_count": 4,
   "metadata": {},
   "outputs": [],
   "source": [
    "dataset = storage.get_dataset(\"search_classifier\")"
   ]
  },
  {
   "cell_type": "code",
   "execution_count": 5,
   "metadata": {},
   "outputs": [
    {
     "name": "stderr",
     "output_type": "stream",
     "text": [
      "100%|██████████| 118/118 [00:43<00:00,  2.69it/s]\n"
     ]
    },
    {
     "data": {
      "text/plain": [
       "0.7711864406779662"
      ]
     },
     "execution_count": 5,
     "metadata": {},
     "output_type": "execute_result"
    }
   ],
   "source": [
    "client = Client.for_openai()\n",
    "\n",
    "class ComparisonEval(Eval):\n",
    "    def compare(self, prediction, target):\n",
    "        return prediction.strip() == target.strip()\n",
    "\n",
    "eval = ComparisonEval(client=client)\n",
    "eval.run(\"gpt-3.5-turbo-16k\", dataset, temperature=0)"
   ]
  },
  {
   "cell_type": "code",
   "execution_count": 7,
   "metadata": {},
   "outputs": [
    {
     "name": "stderr",
     "output_type": "stream",
     "text": [
      "100%|██████████| 118/118 [01:39<00:00,  1.18it/s]\n"
     ]
    },
    {
     "data": {
      "text/plain": [
       "1.0"
      ]
     },
     "execution_count": 7,
     "metadata": {},
     "output_type": "execute_result"
    }
   ],
   "source": [
    "eval.run(\"gpt-4\", dataset, temperature=0)"
   ]
  },
  {
   "cell_type": "code",
   "execution_count": 9,
   "metadata": {},
   "outputs": [
    {
     "name": "stderr",
     "output_type": "stream",
     "text": [
      "  0%|          | 0/118 [00:00<?, ?it/s]"
     ]
    },
    {
     "name": "stderr",
     "output_type": "stream",
     "text": [
      "100%|██████████| 118/118 [01:22<00:00,  1.43it/s]\n"
     ]
    },
    {
     "data": {
      "text/plain": [
       "0.711864406779661"
      ]
     },
     "execution_count": 9,
     "metadata": {},
     "output_type": "execute_result"
    }
   ],
   "source": [
    "client = Client.for_anyscale()\n",
    "eval = ComparisonEval(client=client)\n",
    "eval.run(\"mistralai/Mistral-7B-Instruct-v0.1\", dataset, temperature=0)"
   ]
  },
  {
   "cell_type": "code",
   "execution_count": null,
   "metadata": {},
   "outputs": [],
   "source": []
  }
 ],
 "metadata": {
  "kernelspec": {
   "display_name": ".venv",
   "language": "python",
   "name": "python3"
  },
  "language_info": {
   "codemirror_mode": {
    "name": "ipython",
    "version": 3
   },
   "file_extension": ".py",
   "mimetype": "text/x-python",
   "name": "python",
   "nbconvert_exporter": "python",
   "pygments_lexer": "ipython3",
   "version": "3.11.5"
  }
 },
 "nbformat": 4,
 "nbformat_minor": 2
}
