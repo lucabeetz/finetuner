{
 "cells": [
  {
   "cell_type": "code",
   "execution_count": 1,
   "metadata": {},
   "outputs": [],
   "source": [
    "from dotenv import load_dotenv\n",
    "\n",
    "from finetuner.dataset import FileDataset\n",
    "from finetuner.finetune import Finetune\n",
    "from finetuner import OpenAI\n",
    "\n",
    "load_dotenv()\n",
    "client = OpenAI(use_anyscale=True)\n",
    "\n",
    "dataset = FileDataset.from_file(\"search_classifier.json\")\n",
    "finetune = Finetune(model=\"meta-llama/Llama-2-7b-chat-hf\", dataset=dataset, client=client)"
   ]
  },
  {
   "cell_type": "code",
   "execution_count": 2,
   "metadata": {},
   "outputs": [
    {
     "name": "stdout",
     "output_type": "stream",
     "text": [
      "Uploaded dataset: file_sxlgm43k1cqkb75v82q72ypf3f\n"
     ]
    }
   ],
   "source": [
    "finetune.upload_dataset()"
   ]
  },
  {
   "cell_type": "code",
   "execution_count": 21,
   "metadata": {},
   "outputs": [],
   "source": [
    "finetune.start_job()"
   ]
  },
  {
   "cell_type": "code",
   "execution_count": 20,
   "metadata": {},
   "outputs": [
    {
     "name": "stdout",
     "output_type": "stream",
     "text": [
      "Job status: pending\n"
     ]
    }
   ],
   "source": [
    "finetune.print_status()"
   ]
  },
  {
   "cell_type": "code",
   "execution_count": null,
   "metadata": {},
   "outputs": [],
   "source": []
  }
 ],
 "metadata": {
  "kernelspec": {
   "display_name": ".venv",
   "language": "python",
   "name": "python3"
  },
  "language_info": {
   "codemirror_mode": {
    "name": "ipython",
    "version": 3
   },
   "file_extension": ".py",
   "mimetype": "text/x-python",
   "name": "python",
   "nbconvert_exporter": "python",
   "pygments_lexer": "ipython3",
   "version": "3.11.5"
  }
 },
 "nbformat": 4,
 "nbformat_minor": 2
}
