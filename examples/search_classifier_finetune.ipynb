{
 "cells": [
  {
   "cell_type": "code",
   "execution_count": 1,
   "metadata": {},
   "outputs": [],
   "source": [
    "from dotenv import load_dotenv\n",
    "\n",
    "from finetuner.dataset import FileDataset\n",
    "from finetuner.finetuner import Finetuner\n",
    "from finetuner import Client\n",
    "\n",
    "load_dotenv()\n",
    "client = Client.for_anyscale()\n",
    "\n",
    "dataset = FileDataset.from_file(\"search_classifier.json\")\n",
    "finetuner = Finetuner(client=client)"
   ]
  },
  {
   "cell_type": "code",
   "execution_count": 20,
   "metadata": {},
   "outputs": [
    {
     "name": "stdout",
     "output_type": "stream",
     "text": [
      "Job status: pending\n"
     ]
    }
   ],
   "source": [
    "file_id = finetuner.upload_dataset(dataset)"
   ]
  },
  {
   "cell_type": "code",
   "execution_count": null,
   "metadata": {},
   "outputs": [],
   "source": [
    "if file_id:\n",
    "    job = finetuner.start_job(\"meta-llama/Llama-2-7b-chat-hf\", dataset)"
   ]
  }
 ],
 "metadata": {
  "kernelspec": {
   "display_name": ".venv",
   "language": "python",
   "name": "python3"
  },
  "language_info": {
   "codemirror_mode": {
    "name": "ipython",
    "version": 3
   },
   "file_extension": ".py",
   "mimetype": "text/x-python",
   "name": "python",
   "nbconvert_exporter": "python",
   "pygments_lexer": "ipython3",
   "version": "3.11.5"
  }
 },
 "nbformat": 4,
 "nbformat_minor": 2
}
